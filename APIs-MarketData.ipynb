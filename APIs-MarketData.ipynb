{
 "cells": [
  {
   "cell_type": "code",
   "execution_count": 1,
   "id": "0875ed7e",
   "metadata": {},
   "outputs": [],
   "source": [
    "token = 'ZWDF2CNNPSO3CAGY'"
   ]
  },
  {
   "cell_type": "code",
   "execution_count": 5,
   "id": "eae2fae5",
   "metadata": {},
   "outputs": [
    {
     "name": "stdout",
     "output_type": "stream",
     "text": [
      "<Response [200]>\n"
     ]
    }
   ],
   "source": [
    "# Importamos las librerías\n",
    "\n",
    "import pandas as pd\n",
    "import requests\n",
    "import json\n",
    "\n",
    "# Definimos las variables (parámetros)\n",
    "\n",
    "function = 'TIME_SERIES_INTRADAY'\n",
    "symbol = 'AAPL'\n",
    "interval = '15min'\n",
    "token = 'ZWDF2CNNPSO3CAGY'\n",
    "\n",
    "# Concateno la URL a visitar:\n",
    "\n",
    "urlBase = 'https://www.alphavantage.co/query'\n",
    "url = urlBase + '?function=' + function + '&symbol=' + str(symbol)\n",
    "url += '&interval=' + interval\n",
    "url += '&outputsize=compact'\n",
    "url += '&apikey=' + token\n",
    "\n",
    "# Acá hago el llamado/Request\n",
    "r = requests.get(url)\n",
    "\n",
    "print(r)"
   ]
  },
  {
   "cell_type": "code",
   "execution_count": null,
   "id": "ea819cbe",
   "metadata": {},
   "outputs": [],
   "source": []
  },
  {
   "cell_type": "code",
   "execution_count": null,
   "id": "21ca4cf0",
   "metadata": {},
   "outputs": [],
   "source": []
  },
  {
   "cell_type": "code",
   "execution_count": null,
   "id": "5dcb7a52",
   "metadata": {},
   "outputs": [],
   "source": []
  }
 ],
 "metadata": {
  "kernelspec": {
   "display_name": "Python 3 (ipykernel)",
   "language": "python",
   "name": "python3"
  },
  "language_info": {
   "codemirror_mode": {
    "name": "ipython",
    "version": 3
   },
   "file_extension": ".py",
   "mimetype": "text/x-python",
   "name": "python",
   "nbconvert_exporter": "python",
   "pygments_lexer": "ipython3",
   "version": "3.9.5"
  }
 },
 "nbformat": 4,
 "nbformat_minor": 5
}
